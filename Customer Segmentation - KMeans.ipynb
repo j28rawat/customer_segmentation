{
 "cells": [
  {
   "cell_type": "code",
   "execution_count": 125,
   "metadata": {
    "_cell_guid": "79c7e3d0-c299-4dcb-8224-4455121ee9b0",
    "_uuid": "d629ff2d2480ee46fbb7e2d37f6b5fab8052498a"
   },
   "outputs": [],
   "source": [
    "import warnings\n",
    "warnings.filterwarnings('ignore')\n",
    "import pandas as pd\n",
    "import numpy as np "
   ]
  },
  {
   "cell_type": "code",
   "execution_count": 126,
   "metadata": {},
   "outputs": [
    {
     "data": {
      "text/html": [
       "<div>\n",
       "<style scoped>\n",
       "    .dataframe tbody tr th:only-of-type {\n",
       "        vertical-align: middle;\n",
       "    }\n",
       "\n",
       "    .dataframe tbody tr th {\n",
       "        vertical-align: top;\n",
       "    }\n",
       "\n",
       "    .dataframe thead th {\n",
       "        text-align: right;\n",
       "    }\n",
       "</style>\n",
       "<table border=\"1\" class=\"dataframe\">\n",
       "  <thead>\n",
       "    <tr style=\"text-align: right;\">\n",
       "      <th></th>\n",
       "      <th>customer</th>\n",
       "      <th>order</th>\n",
       "      <th>total_items</th>\n",
       "      <th>discount%</th>\n",
       "      <th>weekday</th>\n",
       "      <th>hour</th>\n",
       "      <th>Food%</th>\n",
       "      <th>Fresh%</th>\n",
       "      <th>Drinks%</th>\n",
       "      <th>Home%</th>\n",
       "      <th>Beauty%</th>\n",
       "      <th>Health%</th>\n",
       "      <th>Baby%</th>\n",
       "      <th>Pets%</th>\n",
       "    </tr>\n",
       "  </thead>\n",
       "  <tbody>\n",
       "    <tr>\n",
       "      <th>0</th>\n",
       "      <td>0</td>\n",
       "      <td>0</td>\n",
       "      <td>45</td>\n",
       "      <td>23.03</td>\n",
       "      <td>4</td>\n",
       "      <td>13</td>\n",
       "      <td>9.46</td>\n",
       "      <td>87.06</td>\n",
       "      <td>3.48</td>\n",
       "      <td>0.00</td>\n",
       "      <td>0.00</td>\n",
       "      <td>0.00</td>\n",
       "      <td>0.0</td>\n",
       "      <td>0.0</td>\n",
       "    </tr>\n",
       "    <tr>\n",
       "      <th>1</th>\n",
       "      <td>0</td>\n",
       "      <td>1</td>\n",
       "      <td>38</td>\n",
       "      <td>1.22</td>\n",
       "      <td>5</td>\n",
       "      <td>13</td>\n",
       "      <td>15.87</td>\n",
       "      <td>75.80</td>\n",
       "      <td>6.22</td>\n",
       "      <td>2.12</td>\n",
       "      <td>0.00</td>\n",
       "      <td>0.00</td>\n",
       "      <td>0.0</td>\n",
       "      <td>0.0</td>\n",
       "    </tr>\n",
       "    <tr>\n",
       "      <th>2</th>\n",
       "      <td>0</td>\n",
       "      <td>2</td>\n",
       "      <td>51</td>\n",
       "      <td>18.08</td>\n",
       "      <td>4</td>\n",
       "      <td>13</td>\n",
       "      <td>16.88</td>\n",
       "      <td>56.75</td>\n",
       "      <td>3.37</td>\n",
       "      <td>16.48</td>\n",
       "      <td>6.53</td>\n",
       "      <td>0.00</td>\n",
       "      <td>0.0</td>\n",
       "      <td>0.0</td>\n",
       "    </tr>\n",
       "    <tr>\n",
       "      <th>3</th>\n",
       "      <td>1</td>\n",
       "      <td>3</td>\n",
       "      <td>57</td>\n",
       "      <td>16.51</td>\n",
       "      <td>1</td>\n",
       "      <td>12</td>\n",
       "      <td>28.81</td>\n",
       "      <td>35.99</td>\n",
       "      <td>11.78</td>\n",
       "      <td>4.62</td>\n",
       "      <td>2.87</td>\n",
       "      <td>15.92</td>\n",
       "      <td>0.0</td>\n",
       "      <td>0.0</td>\n",
       "    </tr>\n",
       "    <tr>\n",
       "      <th>4</th>\n",
       "      <td>1</td>\n",
       "      <td>4</td>\n",
       "      <td>53</td>\n",
       "      <td>18.31</td>\n",
       "      <td>2</td>\n",
       "      <td>11</td>\n",
       "      <td>24.13</td>\n",
       "      <td>60.38</td>\n",
       "      <td>7.78</td>\n",
       "      <td>7.72</td>\n",
       "      <td>0.00</td>\n",
       "      <td>0.00</td>\n",
       "      <td>0.0</td>\n",
       "      <td>0.0</td>\n",
       "    </tr>\n",
       "  </tbody>\n",
       "</table>\n",
       "</div>"
      ],
      "text/plain": [
       "   customer  order  total_items  discount%  weekday  hour  Food%  Fresh%  \\\n",
       "0         0      0           45      23.03        4    13   9.46   87.06   \n",
       "1         0      1           38       1.22        5    13  15.87   75.80   \n",
       "2         0      2           51      18.08        4    13  16.88   56.75   \n",
       "3         1      3           57      16.51        1    12  28.81   35.99   \n",
       "4         1      4           53      18.31        2    11  24.13   60.38   \n",
       "\n",
       "   Drinks%  Home%  Beauty%  Health%  Baby%  Pets%  \n",
       "0     3.48   0.00     0.00     0.00    0.0    0.0  \n",
       "1     6.22   2.12     0.00     0.00    0.0    0.0  \n",
       "2     3.37  16.48     6.53     0.00    0.0    0.0  \n",
       "3    11.78   4.62     2.87    15.92    0.0    0.0  \n",
       "4     7.78   7.72     0.00     0.00    0.0    0.0  "
      ]
     },
     "execution_count": 126,
     "metadata": {},
     "output_type": "execute_result"
    }
   ],
   "source": [
    "df = pd.read_csv(\"../input/ulabox-orders-with-categories-partials-2017/ulabox_orders_with_categories_partials_2017.csv\")\n",
    "df_copy = df.copy()\n",
    "df.head()"
   ]
  },
  {
   "cell_type": "code",
   "execution_count": 127,
   "metadata": {},
   "outputs": [
    {
     "data": {
      "text/plain": [
       "Index(['customer', 'order', 'total_items', 'discount%', 'weekday', 'hour',\n",
       "       'Food%', 'Fresh%', 'Drinks%', 'Home%', 'Beauty%', 'Health%', 'Baby%',\n",
       "       'Pets%'],\n",
       "      dtype='object')"
      ]
     },
     "execution_count": 127,
     "metadata": {},
     "output_type": "execute_result"
    }
   ],
   "source": [
    "\"\"\"\n",
    "    First we will prepare input for the model. \n",
    "    For now, we don't want to consider discount, customer number, order number, weekday and hour as an input for our clustering.\n",
    "\"\"\"\n",
    "df.columns"
   ]
  },
  {
   "cell_type": "code",
   "execution_count": 128,
   "metadata": {},
   "outputs": [
    {
     "data": {
      "text/html": [
       "<div>\n",
       "<style scoped>\n",
       "    .dataframe tbody tr th:only-of-type {\n",
       "        vertical-align: middle;\n",
       "    }\n",
       "\n",
       "    .dataframe tbody tr th {\n",
       "        vertical-align: top;\n",
       "    }\n",
       "\n",
       "    .dataframe thead th {\n",
       "        text-align: right;\n",
       "    }\n",
       "</style>\n",
       "<table border=\"1\" class=\"dataframe\">\n",
       "  <thead>\n",
       "    <tr style=\"text-align: right;\">\n",
       "      <th></th>\n",
       "      <th>total_items</th>\n",
       "      <th>Food%</th>\n",
       "      <th>Fresh%</th>\n",
       "      <th>Drinks%</th>\n",
       "      <th>Home%</th>\n",
       "      <th>Beauty%</th>\n",
       "      <th>Health%</th>\n",
       "      <th>Baby%</th>\n",
       "      <th>Pets%</th>\n",
       "    </tr>\n",
       "  </thead>\n",
       "  <tbody>\n",
       "    <tr>\n",
       "      <th>0</th>\n",
       "      <td>45</td>\n",
       "      <td>9.46</td>\n",
       "      <td>87.06</td>\n",
       "      <td>3.48</td>\n",
       "      <td>0.00</td>\n",
       "      <td>0.00</td>\n",
       "      <td>0.00</td>\n",
       "      <td>0.0</td>\n",
       "      <td>0.0</td>\n",
       "    </tr>\n",
       "    <tr>\n",
       "      <th>1</th>\n",
       "      <td>38</td>\n",
       "      <td>15.87</td>\n",
       "      <td>75.80</td>\n",
       "      <td>6.22</td>\n",
       "      <td>2.12</td>\n",
       "      <td>0.00</td>\n",
       "      <td>0.00</td>\n",
       "      <td>0.0</td>\n",
       "      <td>0.0</td>\n",
       "    </tr>\n",
       "    <tr>\n",
       "      <th>2</th>\n",
       "      <td>51</td>\n",
       "      <td>16.88</td>\n",
       "      <td>56.75</td>\n",
       "      <td>3.37</td>\n",
       "      <td>16.48</td>\n",
       "      <td>6.53</td>\n",
       "      <td>0.00</td>\n",
       "      <td>0.0</td>\n",
       "      <td>0.0</td>\n",
       "    </tr>\n",
       "    <tr>\n",
       "      <th>3</th>\n",
       "      <td>57</td>\n",
       "      <td>28.81</td>\n",
       "      <td>35.99</td>\n",
       "      <td>11.78</td>\n",
       "      <td>4.62</td>\n",
       "      <td>2.87</td>\n",
       "      <td>15.92</td>\n",
       "      <td>0.0</td>\n",
       "      <td>0.0</td>\n",
       "    </tr>\n",
       "    <tr>\n",
       "      <th>4</th>\n",
       "      <td>53</td>\n",
       "      <td>24.13</td>\n",
       "      <td>60.38</td>\n",
       "      <td>7.78</td>\n",
       "      <td>7.72</td>\n",
       "      <td>0.00</td>\n",
       "      <td>0.00</td>\n",
       "      <td>0.0</td>\n",
       "      <td>0.0</td>\n",
       "    </tr>\n",
       "  </tbody>\n",
       "</table>\n",
       "</div>"
      ],
      "text/plain": [
       "   total_items  Food%  Fresh%  Drinks%  Home%  Beauty%  Health%  Baby%  Pets%\n",
       "0           45   9.46   87.06     3.48   0.00     0.00     0.00    0.0    0.0\n",
       "1           38  15.87   75.80     6.22   2.12     0.00     0.00    0.0    0.0\n",
       "2           51  16.88   56.75     3.37  16.48     6.53     0.00    0.0    0.0\n",
       "3           57  28.81   35.99    11.78   4.62     2.87    15.92    0.0    0.0\n",
       "4           53  24.13   60.38     7.78   7.72     0.00     0.00    0.0    0.0"
      ]
     },
     "execution_count": 128,
     "metadata": {},
     "output_type": "execute_result"
    }
   ],
   "source": [
    "input = df.drop([\"customer\", \"order\", \"discount%\", \"weekday\", \"hour\"], axis=1)\n",
    "input.head()"
   ]
  },
  {
   "cell_type": "code",
   "execution_count": 129,
   "metadata": {},
   "outputs": [
    {
     "data": {
      "text/plain": [
       "0.9609884701014505"
      ]
     },
     "execution_count": 129,
     "metadata": {},
     "output_type": "execute_result"
    }
   ],
   "source": [
    "\"\"\"\n",
    " Lets determine whether or not a given data-set contains clusters or not.\n",
    " We will use the Hopkins statistic for this. Ignore the method implementation.\n",
    " The value ranges between 0 and 1.\n",
    " The idea is simple – the closer the value to 1, the higher the likelihood of clusters.\n",
    "\"\"\"\n",
    "\n",
    "from sklearn.neighbors import NearestNeighbors\n",
    "from random import sample\n",
    "from numpy.random import uniform\n",
    "import numpy as np\n",
    "from math import isnan\n",
    "\n",
    "def hopkins(X):\n",
    "    d = X.shape[1]\n",
    "    #d = len(vars) # columns\n",
    "    n = len(X) # rows\n",
    "    m = int(0.1 * n) # heuristic from article [1]\n",
    "    nbrs = NearestNeighbors(n_neighbors=1).fit(X.values)\n",
    " \n",
    "    rand_X = sample(range(0, n, 1), m)\n",
    " \n",
    "    ujd = []\n",
    "    wjd = []\n",
    "    for j in range(0, m):\n",
    "        u_dist, _ = nbrs.kneighbors(uniform(np.amin(X,axis=0),np.amax(X,axis=0),d).reshape(1, -1), 2, return_distance=True)\n",
    "        ujd.append(u_dist[0][1])\n",
    "        w_dist, _ = nbrs.kneighbors(X.iloc[rand_X[j]].values.reshape(1, -1), 2, return_distance=True)\n",
    "        wjd.append(w_dist[0][1])\n",
    " \n",
    "    H = sum(ujd) / (sum(ujd) + sum(wjd))\n",
    "    if isnan(H):\n",
    "        print(ujd, wjd)\n",
    "        H = 0\n",
    " \n",
    "    return H\n",
    "\n",
    "hopkins(input)"
   ]
  },
  {
   "cell_type": "code",
   "execution_count": 130,
   "metadata": {},
   "outputs": [],
   "source": [
    "# Using scikit-learn to perform K-Means clustering\n",
    "from sklearn.cluster import KMeans\n",
    "    \n",
    "# Specify the number of clusters (4) and fit the data X\n",
    "kmeans = KMeans(n_clusters=4, random_state=0).fit(input)"
   ]
  },
  {
   "cell_type": "code",
   "execution_count": 131,
   "metadata": {},
   "outputs": [
    {
     "name": "stdout",
     "output_type": "stream",
     "text": [
      "[[40.27545857 20.63515286 50.07000422 14.33270715  7.28480603  3.47421569\n",
      "   0.87005376  2.4617004   0.78969218]\n",
      " [14.44889893  5.41441276  3.20577922  9.14900621  6.50335968  2.51665443\n",
      "   0.76562676 71.93480519  0.31248447]\n",
      " [25.25156043 13.88402497  6.22763004 62.01423492 10.51195763  3.13382448\n",
      "   0.79607339  2.56898052  0.70862115]\n",
      " [32.98776209 35.813816    7.49456312 17.47898674 22.11997946 10.12833119\n",
      "   1.61016175  3.52223962  1.62159093]]\n",
      "[0 0 0 ... 2 2 1]\n"
     ]
    }
   ],
   "source": [
    "# Get the cluster centroids\n",
    "print(kmeans.cluster_centers_)\n",
    "    \n",
    "# Get the cluster labels\n",
    "print(kmeans.labels_)"
   ]
  },
  {
   "cell_type": "code",
   "execution_count": 132,
   "metadata": {},
   "outputs": [
    {
     "data": {
      "text/plain": [
       "customer  labels\n",
       "0         0          3\n",
       "1         0         18\n",
       "          2          1\n",
       "          3          1\n",
       "2         2          1\n",
       "                    ..\n",
       "10234     1          1\n",
       "10235     2          1\n",
       "10236     3          1\n",
       "10237     2          2\n",
       "10238     1          1\n",
       "Length: 13841, dtype: int64"
      ]
     },
     "execution_count": 132,
     "metadata": {},
     "output_type": "execute_result"
    }
   ],
   "source": [
    "df[\"labels\"] = kmeans.labels_\n",
    "df.groupby(['customer', 'labels']).size()"
   ]
  },
  {
   "cell_type": "markdown",
   "metadata": {},
   "source": [
    "* If we look closely, customer number 1 is spread across various clusters. We are here not to cluster the transactions but cluster the customers. \n",
    "* For now lets continue analyzing the clusters, we will come back to this again.\n"
   ]
  },
  {
   "cell_type": "markdown",
   "metadata": {},
   "source": [
    "# The silhouette score\n",
    "* The value of the silhouette coefﬁcient is between [-1, 1]. \n",
    "* A score of 1 denotes the best meaning that the data point is very compact within the cluster to which it belongs and far away from the other clusters."
   ]
  },
  {
   "cell_type": "code",
   "execution_count": 133,
   "metadata": {},
   "outputs": [
    {
     "name": "stdout",
     "output_type": "stream",
     "text": [
      "0.26210907385342525\n"
     ]
    }
   ],
   "source": [
    "# Calculate silhouette_score\n",
    "from sklearn.metrics import silhouette_score\n",
    "\n",
    "print(silhouette_score(input, kmeans.labels_))"
   ]
  },
  {
   "cell_type": "markdown",
   "metadata": {},
   "source": [
    "# The elbow method\n",
    "* Using silhouette coefficients to determine K"
   ]
  },
  {
   "cell_type": "code",
   "execution_count": 134,
   "metadata": {},
   "outputs": [
    {
     "name": "stderr",
     "output_type": "stream",
     "text": [
      "/opt/conda/lib/python3.6/site-packages/yellowbrick/utils/kneed.py:182: YellowbrickWarning: No \"knee\" or \"elbow point\" detected This could be due to bad clustering, no actual clusters being formed etc.\n",
      "  warnings.warn(warning_message, YellowbrickWarning)\n",
      "/opt/conda/lib/python3.6/site-packages/yellowbrick/utils/kneed.py:140: YellowbrickWarning: No 'knee' or 'elbow point' detected This could be due to bad clustering, no actual clusters being formed etc.\n",
      "  warnings.warn(warning_message, YellowbrickWarning)\n",
      "/opt/conda/lib/python3.6/site-packages/yellowbrick/cluster/elbow.py:343: YellowbrickWarning: No 'knee' or 'elbow' point detected, pass `locate_elbow=False` to remove the warning\n",
      "  warnings.warn(warning_message, YellowbrickWarning)\n"
     ]
    },
    {
     "data": {
      "image/png": "[encoded data removed]",
      "text/plain": [
       "<Figure size 576x396 with 1 Axes>"
      ]
     },
     "metadata": {},
     "output_type": "display_data"
    },
    {
     "data": {
      "text/plain": [
       "<matplotlib.axes._subplots.AxesSubplot at 0x7f84be06e208>"
      ]
     },
     "execution_count": 134,
     "metadata": {},
     "output_type": "execute_result"
    }
   ],
   "source": [
    "# Import the KElbowVisualizer method \n",
    "from yellowbrick.cluster import KElbowVisualizer\n",
    "\n",
    "# Instantiate a scikit-learn K-Means model\n",
    "model = KMeans(random_state=0)\n",
    "\n",
    "# Instantiate the KElbowVisualizer with the number of clusters and the metric \n",
    "visualizer = KElbowVisualizer(model, k=(2,6), metric='silhouette', timings=False)\n",
    "\n",
    "# Fit the data and visualize\n",
    "visualizer.fit(input)    \n",
    "visualizer.poof()   "
   ]
  },
  {
   "cell_type": "markdown",
   "metadata": {},
   "source": [
    "Best silhouette coefficient at cluster size 3"
   ]
  },
  {
   "cell_type": "code",
   "execution_count": 135,
   "metadata": {},
   "outputs": [],
   "source": [
    "kmeans = KMeans(n_clusters=3, random_state=0).fit(input)"
   ]
  },
  {
   "cell_type": "code",
   "execution_count": 142,
   "metadata": {},
   "outputs": [
    {
     "data": {
      "text/html": [
       "<div>\n",
       "<style scoped>\n",
       "    .dataframe tbody tr th:only-of-type {\n",
       "        vertical-align: middle;\n",
       "    }\n",
       "\n",
       "    .dataframe tbody tr th {\n",
       "        vertical-align: top;\n",
       "    }\n",
       "\n",
       "    .dataframe thead th {\n",
       "        text-align: right;\n",
       "    }\n",
       "</style>\n",
       "<table border=\"1\" class=\"dataframe\">\n",
       "  <thead>\n",
       "    <tr style=\"text-align: right;\">\n",
       "      <th></th>\n",
       "      <th>customer</th>\n",
       "      <th>labels</th>\n",
       "      <th>count</th>\n",
       "    </tr>\n",
       "  </thead>\n",
       "  <tbody>\n",
       "    <tr>\n",
       "      <th>0</th>\n",
       "      <td>0</td>\n",
       "      <td>0</td>\n",
       "      <td>3</td>\n",
       "    </tr>\n",
       "    <tr>\n",
       "      <th>1</th>\n",
       "      <td>1</td>\n",
       "      <td>0</td>\n",
       "      <td>18</td>\n",
       "    </tr>\n",
       "    <tr>\n",
       "      <th>2</th>\n",
       "      <td>1</td>\n",
       "      <td>1</td>\n",
       "      <td>2</td>\n",
       "    </tr>\n",
       "    <tr>\n",
       "      <th>3</th>\n",
       "      <td>2</td>\n",
       "      <td>1</td>\n",
       "      <td>1</td>\n",
       "    </tr>\n",
       "    <tr>\n",
       "      <th>4</th>\n",
       "      <td>3</td>\n",
       "      <td>0</td>\n",
       "      <td>19</td>\n",
       "    </tr>\n",
       "    <tr>\n",
       "      <th>...</th>\n",
       "      <td>...</td>\n",
       "      <td>...</td>\n",
       "      <td>...</td>\n",
       "    </tr>\n",
       "    <tr>\n",
       "      <th>12471</th>\n",
       "      <td>10234</td>\n",
       "      <td>2</td>\n",
       "      <td>1</td>\n",
       "    </tr>\n",
       "    <tr>\n",
       "      <th>12472</th>\n",
       "      <td>10235</td>\n",
       "      <td>1</td>\n",
       "      <td>1</td>\n",
       "    </tr>\n",
       "    <tr>\n",
       "      <th>12473</th>\n",
       "      <td>10236</td>\n",
       "      <td>1</td>\n",
       "      <td>1</td>\n",
       "    </tr>\n",
       "    <tr>\n",
       "      <th>12474</th>\n",
       "      <td>10237</td>\n",
       "      <td>1</td>\n",
       "      <td>2</td>\n",
       "    </tr>\n",
       "    <tr>\n",
       "      <th>12475</th>\n",
       "      <td>10238</td>\n",
       "      <td>2</td>\n",
       "      <td>1</td>\n",
       "    </tr>\n",
       "  </tbody>\n",
       "</table>\n",
       "<p>12476 rows × 3 columns</p>\n",
       "</div>"
      ],
      "text/plain": [
       "       customer  labels  count\n",
       "0             0       0      3\n",
       "1             1       0     18\n",
       "2             1       1      2\n",
       "3             2       1      1\n",
       "4             3       0     19\n",
       "...         ...     ...    ...\n",
       "12471     10234       2      1\n",
       "12472     10235       1      1\n",
       "12473     10236       1      1\n",
       "12474     10237       1      2\n",
       "12475     10238       2      1\n",
       "\n",
       "[12476 rows x 3 columns]"
      ]
     },
     "execution_count": 142,
     "metadata": {},
     "output_type": "execute_result"
    }
   ],
   "source": [
    "df[\"labels\"] = kmeans.labels_\n",
    "final_group = df.groupby(['customer', 'labels']).size()\n",
    "df_result = pd.DataFrame({'count' : final_group}).reset_index()\n",
    "df_result"
   ]
  },
  {
   "cell_type": "markdown",
   "metadata": {},
   "source": [
    "# Lets solve our final problem. What if a customer falls in two different clusters ?  "
   ]
  },
  {
   "cell_type": "code",
   "execution_count": 146,
   "metadata": {},
   "outputs": [],
   "source": [
    "\"\"\"\n",
    "    For a customer, we will select the cluster which has maximum count\n",
    "\"\"\"\n",
    "idx = df_result.groupby([\"customer\"])[\"count\"].transform(max) == df_result[\"count\"]"
   ]
  },
  {
   "cell_type": "code",
   "execution_count": 149,
   "metadata": {},
   "outputs": [
    {
     "data": {
      "text/html": [
       "<div>\n",
       "<style scoped>\n",
       "    .dataframe tbody tr th:only-of-type {\n",
       "        vertical-align: middle;\n",
       "    }\n",
       "\n",
       "    .dataframe tbody tr th {\n",
       "        vertical-align: top;\n",
       "    }\n",
       "\n",
       "    .dataframe thead th {\n",
       "        text-align: right;\n",
       "    }\n",
       "</style>\n",
       "<table border=\"1\" class=\"dataframe\">\n",
       "  <thead>\n",
       "    <tr style=\"text-align: right;\">\n",
       "      <th></th>\n",
       "      <th>customer</th>\n",
       "      <th>labels</th>\n",
       "      <th>count</th>\n",
       "    </tr>\n",
       "  </thead>\n",
       "  <tbody>\n",
       "    <tr>\n",
       "      <th>0</th>\n",
       "      <td>0</td>\n",
       "      <td>0</td>\n",
       "      <td>3</td>\n",
       "    </tr>\n",
       "    <tr>\n",
       "      <th>1</th>\n",
       "      <td>1</td>\n",
       "      <td>0</td>\n",
       "      <td>18</td>\n",
       "    </tr>\n",
       "    <tr>\n",
       "      <th>3</th>\n",
       "      <td>2</td>\n",
       "      <td>1</td>\n",
       "      <td>1</td>\n",
       "    </tr>\n",
       "    <tr>\n",
       "      <th>4</th>\n",
       "      <td>3</td>\n",
       "      <td>0</td>\n",
       "      <td>19</td>\n",
       "    </tr>\n",
       "    <tr>\n",
       "      <th>7</th>\n",
       "      <td>4</td>\n",
       "      <td>0</td>\n",
       "      <td>22</td>\n",
       "    </tr>\n",
       "    <tr>\n",
       "      <th>...</th>\n",
       "      <td>...</td>\n",
       "      <td>...</td>\n",
       "      <td>...</td>\n",
       "    </tr>\n",
       "    <tr>\n",
       "      <th>12471</th>\n",
       "      <td>10234</td>\n",
       "      <td>2</td>\n",
       "      <td>1</td>\n",
       "    </tr>\n",
       "    <tr>\n",
       "      <th>12472</th>\n",
       "      <td>10235</td>\n",
       "      <td>1</td>\n",
       "      <td>1</td>\n",
       "    </tr>\n",
       "    <tr>\n",
       "      <th>12473</th>\n",
       "      <td>10236</td>\n",
       "      <td>1</td>\n",
       "      <td>1</td>\n",
       "    </tr>\n",
       "    <tr>\n",
       "      <th>12474</th>\n",
       "      <td>10237</td>\n",
       "      <td>1</td>\n",
       "      <td>2</td>\n",
       "    </tr>\n",
       "    <tr>\n",
       "      <th>12475</th>\n",
       "      <td>10238</td>\n",
       "      <td>2</td>\n",
       "      <td>1</td>\n",
       "    </tr>\n",
       "  </tbody>\n",
       "</table>\n",
       "<p>10769 rows × 3 columns</p>\n",
       "</div>"
      ],
      "text/plain": [
       "       customer  labels  count\n",
       "0             0       0      3\n",
       "1             1       0     18\n",
       "3             2       1      1\n",
       "4             3       0     19\n",
       "7             4       0     22\n",
       "...         ...     ...    ...\n",
       "12471     10234       2      1\n",
       "12472     10235       1      1\n",
       "12473     10236       1      1\n",
       "12474     10237       1      2\n",
       "12475     10238       2      1\n",
       "\n",
       "[10769 rows x 3 columns]"
      ]
     },
     "execution_count": 149,
     "metadata": {},
     "output_type": "execute_result"
    }
   ],
   "source": [
    "df_result[idx]"
   ]
  },
  {
   "cell_type": "code",
   "execution_count": 152,
   "metadata": {},
   "outputs": [
    {
     "ename": "AttributeError",
     "evalue": "'DataFrame' object has no attribute 'count_values'",
     "output_type": "error",
     "traceback": [
      "\u001b[0;31m---------------------------------------------------------------------------\u001b[0m",
      "\u001b[0;31mAttributeError\u001b[0m                            Traceback (most recent call last)",
      "\u001b[0;32m<ipython-input-152-b590e2930fbf>\u001b[0m in \u001b[0;36m<module>\u001b[0;34m\u001b[0m\n\u001b[0;32m----> 1\u001b[0;31m \u001b[0mdf_result\u001b[0m\u001b[0;34m[\u001b[0m\u001b[0;34m[\u001b[0m\u001b[0;34m\"labels\"\u001b[0m\u001b[0;34m]\u001b[0m\u001b[0;34m]\u001b[0m\u001b[0;34m.\u001b[0m\u001b[0mcount_values\u001b[0m\u001b[0;34m(\u001b[0m\u001b[0;34m)\u001b[0m\u001b[0;34m\u001b[0m\u001b[0m\n\u001b[0m",
      "\u001b[0;32m/opt/conda/lib/python3.6/site-packages/pandas/core/generic.py\u001b[0m in \u001b[0;36m__getattr__\u001b[0;34m(self, name)\u001b[0m\n\u001b[1;32m   5177\u001b[0m             \u001b[0;32mif\u001b[0m \u001b[0mself\u001b[0m\u001b[0;34m.\u001b[0m\u001b[0m_info_axis\u001b[0m\u001b[0;34m.\u001b[0m\u001b[0m_can_hold_identifiers_and_holds_name\u001b[0m\u001b[0;34m(\u001b[0m\u001b[0mname\u001b[0m\u001b[0;34m)\u001b[0m\u001b[0;34m:\u001b[0m\u001b[0;34m\u001b[0m\u001b[0m\n\u001b[1;32m   5178\u001b[0m                 \u001b[0;32mreturn\u001b[0m \u001b[0mself\u001b[0m\u001b[0;34m[\u001b[0m\u001b[0mname\u001b[0m\u001b[0;34m]\u001b[0m\u001b[0;34m\u001b[0m\u001b[0m\n\u001b[0;32m-> 5179\u001b[0;31m             \u001b[0;32mreturn\u001b[0m \u001b[0mobject\u001b[0m\u001b[0;34m.\u001b[0m\u001b[0m__getattribute__\u001b[0m\u001b[0;34m(\u001b[0m\u001b[0mself\u001b[0m\u001b[0;34m,\u001b[0m \u001b[0mname\u001b[0m\u001b[0;34m)\u001b[0m\u001b[0;34m\u001b[0m\u001b[0m\n\u001b[0m\u001b[1;32m   5180\u001b[0m \u001b[0;34m\u001b[0m\u001b[0m\n\u001b[1;32m   5181\u001b[0m     \u001b[0;32mdef\u001b[0m \u001b[0m__setattr__\u001b[0m\u001b[0;34m(\u001b[0m\u001b[0mself\u001b[0m\u001b[0;34m,\u001b[0m \u001b[0mname\u001b[0m\u001b[0;34m,\u001b[0m \u001b[0mvalue\u001b[0m\u001b[0;34m)\u001b[0m\u001b[0;34m:\u001b[0m\u001b[0;34m\u001b[0m\u001b[0m\n",
      "\u001b[0;31mAttributeError\u001b[0m: 'DataFrame' object has no attribute 'count_values'"
     ]
    }
   ],
   "source": [
    "df_result[\"labels\"].value_counts()"
   ]
  },
  {
   "cell_type": "code",
   "execution_count": null,
   "metadata": {},
   "outputs": [],
   "source": []
  }
 ],
 "metadata": {
  "kernelspec": {
   "display_name": "Python 3",
   "language": "python",
   "name": "python3"
  },
  "language_info": {
   "codemirror_mode": {
    "name": "ipython",
    "version": 3
   },
   "file_extension": ".py",
   "mimetype": "text/x-python",
   "name": "python",
   "nbconvert_exporter": "python",
   "pygments_lexer": "ipython3",
   "version": "3.7.3"
  }
 },
 "nbformat": 4,
 "nbformat_minor": 4
}
